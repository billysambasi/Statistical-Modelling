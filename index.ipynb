{
 "cells": [
  {
   "cell_type": "markdown",
   "metadata": {},
   "source": [
    "# Statistical Modeling "
   ]
  },
  {
   "cell_type": "markdown",
   "metadata": {},
   "source": [
    "Statistical modeling is a mathematical approach used to represent and analyze the relationships between variables in data. It involves constructing a model that captures the underlying patterns and structures within a dataset, often with the goal of making predictions or understanding the data better."
   ]
  },
  {
   "cell_type": "markdown",
   "metadata": {},
   "source": [
    "\n",
    "    Independent variables are also known as: predictor variables, input variables, explanatory variables, features\n",
    "    \n",
    "    Dependent variables are also known as: outcome variables, target variables, response variables\n"
   ]
  },
  {
   "cell_type": "markdown",
   "metadata": {},
   "source": [
    "## Model Loss\n",
    "\n",
    "A loss function evaluates how well your model represents the relationship between data variables.\n",
    "\n"
   ]
  },
  {
   "cell_type": "markdown",
   "metadata": {},
   "source": [
    "## Simple Linear Regression"
   ]
  },
  {
   "cell_type": "markdown",
   "metadata": {},
   "source": [
    "The model notation is \n",
    "\n",
    "$$y=mx+c$$\n",
    "\n",
    "or, alternatively\n",
    "\n",
    "$$y = \\beta_0+ \\beta_1 x $$"
   ]
  },
  {
   "cell_type": "markdown",
   "metadata": {},
   "source": [
    "## Calculating M"
   ]
  },
  {
   "cell_type": "markdown",
   "metadata": {},
   "source": [
    "### The Least-Squares Method\n",
    "\n",
    "We can calculate $\\hat{m}$ (the slope of the best-fit line) using this formula:\n",
    "\n",
    "$$\\hat{m} = \\rho \\frac{S_y}{S_x}$$\n",
    "\n",
    "Breaking down those components, we have:\n",
    "\n",
    "* $\\hat{m}$: the estimated slope\n",
    "* $\\rho$: the Pearson correlation, represented by the Greek letter \"Rho\"\n",
    "* $S_y$: the standard deviation of the y values\n",
    "* $S_x$: the standard deviation of the x values"
   ]
  },
  {
   "cell_type": "markdown",
   "metadata": {},
   "source": [
    "## Calculating C\n",
    "\n",
    "Then once we have the slope value ($\\hat{m}$), we can put it back into our formula $(\\hat{y} = \\hat{m} x + \\hat{c})$ to calculate the intercept. The idea is that\n",
    "\n",
    "$$\\bar{y} = \\hat{c} + \\hat{m} \\bar{x}$$\n",
    "\n",
    "so\n",
    "\n",
    "$$\\hat{c} = \\bar{y} - \\hat{m} \\bar{x}$$\n",
    "\n",
    "Breaking down those components, we have:\n",
    "\n",
    "* $\\hat{c}$: the estimated intercept\n",
    "* $\\bar{y}$: the mean of the y values\n",
    "* $\\hat{m}$: the estimated slope\n",
    "* $\\bar{x}$: the mean of the x values"
   ]
  },
  {
   "cell_type": "code",
   "execution_count": 1,
   "metadata": {},
   "outputs": [],
   "source": [
    "# imports \n",
    "\n",
    "import numpy as np \n",
    "import seaborn as sns\n",
    "import pandas as pd\n",
    "import statsmodels.api as sm"
   ]
  },
  {
   "cell_type": "code",
   "execution_count": 2,
   "metadata": {},
   "outputs": [],
   "source": [
    "\n",
    "# X = Independent Variable\n",
    "X = np.array([1,2,3,4,5,6,8,8,9,10], dtype=np.float64)\n",
    "# Y = Dependent Variable\n",
    "Y = np.array([7,7,8,9,9,10,10,11,11,12], dtype=np.float64)"
   ]
  },
  {
   "cell_type": "code",
   "execution_count": 4,
   "metadata": {},
   "outputs": [
    {
     "data": {
      "image/png": "[encoded data removed]",
      "text/plain": [
       "<Figure size 432x288 with 1 Axes>"
      ]
     },
     "metadata": {
      "needs_background": "light"
     },
     "output_type": "display_data"
    }
   ],
   "source": [
    "sns.scatterplot(x=X,y=Y); "
   ]
  },
  {
   "cell_type": "markdown",
   "metadata": {},
   "source": [
    "Write a function `calc_slope` that returns $\\hat{m}$ for a given set of x and y data.\n",
    "\n",
    "The formula is:\n",
    "\n",
    "$$\\hat{m} = \\rho \\frac{S_y}{S_x}$$"
   ]
  },
  {
   "cell_type": "code",
   "execution_count": 5,
   "metadata": {},
   "outputs": [
    {
     "data": {
      "text/plain": [
       "0.9757242123141517"
      ]
     },
     "execution_count": 5,
     "metadata": {},
     "output_type": "execute_result"
    }
   ],
   "source": [
    "# calcute p-corr\n",
    "p_corr = np.corrcoef(X, Y)[0, 1]\n",
    "p_corr\n"
   ]
  },
  {
   "cell_type": "code",
   "execution_count": 6,
   "metadata": {},
   "outputs": [
    {
     "data": {
      "text/plain": [
       "1.624807680927192"
      ]
     },
     "execution_count": 6,
     "metadata": {},
     "output_type": "execute_result"
    }
   ],
   "source": [
    "# y std\n",
    "y_std = Y.std()\n",
    "y_std"
   ]
  },
  {
   "cell_type": "code",
   "execution_count": 7,
   "metadata": {},
   "outputs": [
    {
     "data": {
      "text/plain": [
       "2.9393876913398134"
      ]
     },
     "execution_count": 7,
     "metadata": {},
     "output_type": "execute_result"
    }
   ],
   "source": [
    "# x std\n",
    "x_std = X.std()\n",
    "x_std"
   ]
  },
  {
   "cell_type": "code",
   "execution_count": 9,
   "metadata": {},
   "outputs": [
    {
     "data": {
      "text/plain": [
       "0.539351851851852"
      ]
     },
     "execution_count": 9,
     "metadata": {},
     "output_type": "execute_result"
    }
   ],
   "source": [
    "# calculate  m\n",
    "m = p_corr * (y_std / x_std)\n",
    "m"
   ]
  },
  {
   "cell_type": "code",
   "execution_count": 11,
   "metadata": {},
   "outputs": [],
   "source": [
    "# slope function\n",
    "def slope(X,Y):\n",
    "    # corr_coef\n",
    "    p_corr = np.corrcoef(X,Y)[0][1]\n",
    "    #std y\n",
    "    std_y = np.std(Y)\n",
    "    #std X\n",
    "    std_x = X.std()\n",
    "    #m\n",
    "    m = p_corr*(std_y/std_x)\n",
    "    return m"
   ]
  },
  {
   "cell_type": "code",
   "execution_count": 12,
   "metadata": {},
   "outputs": [
    {
     "data": {
      "text/plain": [
       "0.539351851851852"
      ]
     },
     "execution_count": 12,
     "metadata": {},
     "output_type": "execute_result"
    }
   ],
   "source": [
    "# calculate slope for our data \n",
    "slope(X, Y)"
   ]
  },
  {
   "cell_type": "markdown",
   "metadata": {},
   "source": [
    "## Calculating the Intercept\n",
    "\n",
    "Now that we have our estimated slope $\\hat{m}$, we can calculate the estimated intercept $\\hat{c}$.\n",
    "\n",
    "As a reminder, the calculation for the best-fit line's y-intercept is:\n",
    "\n",
    "$$\\hat{c} = \\bar{y} - \\hat{m} \\bar{x}$$\n",
    "\n",
    "Write a function `calc_intercept` that returns $\\hat{c}$ for a given $\\hat{m}$, x, and y.\n"
   ]
  },
  {
   "cell_type": "code",
   "execution_count": 13,
   "metadata": {},
   "outputs": [
    {
     "data": {
      "text/plain": [
       "9.4"
      ]
     },
     "execution_count": 13,
     "metadata": {},
     "output_type": "execute_result"
    }
   ],
   "source": [
    "# get the y mean\n",
    "y_mean = Y.mean()\n",
    "y_mean"
   ]
  },
  {
   "cell_type": "code",
   "execution_count": 14,
   "metadata": {},
   "outputs": [
    {
     "data": {
      "text/plain": [
       "5.6"
      ]
     },
     "execution_count": 14,
     "metadata": {},
     "output_type": "execute_result"
    }
   ],
   "source": [
    "# get the x mean\n",
    "x_mean = X.mean()\n",
    "x_mean"
   ]
  },
  {
   "cell_type": "code",
   "execution_count": null,
   "metadata": {},
   "outputs": [],
   "source": [
    "# calculate the intecept\n"
   ]
  },
  {
   "cell_type": "code",
   "execution_count": 15,
   "metadata": {},
   "outputs": [],
   "source": [
    "# get the intercept function\n",
    "def get_c(X,Y):\n",
    "    #y mean\n",
    "   Y_mean = Y.mean() \n",
    "   #x_mean\n",
    "   X_mean = np.mean(X)\n",
    "   \n",
    "   m = slope(X,Y)\n",
    "   \n",
    "   c = Y_mean - (X_mean*m)\n",
    "   \n",
    "   return c\n",
    "   "
   ]
  },
  {
   "cell_type": "code",
   "execution_count": 18,
   "metadata": {},
   "outputs": [
    {
     "data": {
      "text/plain": [
       "6.37962962962963"
      ]
     },
     "execution_count": 18,
     "metadata": {},
     "output_type": "execute_result"
    }
   ],
   "source": [
    "c = get_c(X, Y)\n",
    "c"
   ]
  },
  {
   "cell_type": "markdown",
   "metadata": {},
   "source": [
    "## Predicting a datapoint "
   ]
  },
  {
   "cell_type": "code",
   "execution_count": 20,
   "metadata": {},
   "outputs": [
    {
     "data": {
      "text/plain": [
       "545.7314814814816"
      ]
     },
     "execution_count": 20,
     "metadata": {},
     "output_type": "execute_result"
    }
   ],
   "source": [
    "# to predict a data point \n",
    "y = slope(X, Y) * 1000 + c\n",
    "y"
   ]
  },
  {
   "cell_type": "code",
   "execution_count": 21,
   "metadata": {},
   "outputs": [
    {
     "data": {
      "text/plain": [
       "11.773148148148149"
      ]
     },
     "execution_count": 21,
     "metadata": {},
     "output_type": "execute_result"
    }
   ],
   "source": [
    "slope(X, Y) * 10 + get_c(X, Y)"
   ]
  },
  {
   "cell_type": "code",
   "execution_count": 18,
   "metadata": {},
   "outputs": [],
   "source": [
    "# reg plot\n"
   ]
  },
  {
   "cell_type": "markdown",
   "metadata": {},
   "source": [
    "# Todo"
   ]
  },
  {
   "cell_type": "code",
   "execution_count": 19,
   "metadata": {},
   "outputs": [],
   "source": [
    "# make a model for sales and any other column in the provided dataset"
   ]
  },
  {
   "cell_type": "markdown",
   "metadata": {},
   "source": [
    "# Linear Rigression With StatsModel"
   ]
  },
  {
   "cell_type": "markdown",
   "metadata": {},
   "source": [
    "An example of linear Regression model ands it evalution using stats model "
   ]
  },
  {
   "cell_type": "code",
   "execution_count": 22,
   "metadata": {},
   "outputs": [
    {
     "data": {
      "application/vnd.microsoft.datawrangler.viewer.v0+json": {
       "columns": [
        {
         "name": "index",
         "rawType": "int64",
         "type": "integer"
        },
        {
         "name": "Unnamed: 0",
         "rawType": "int64",
         "type": "integer"
        },
        {
         "name": "TV",
         "rawType": "float64",
         "type": "float"
        },
        {
         "name": "radio",
         "rawType": "float64",
         "type": "float"
        },
        {
         "name": "newspaper",
         "rawType": "float64",
         "type": "float"
        },
        {
         "name": "sales",
         "rawType": "float64",
         "type": "float"
        }
       ],
       "conversionMethod": "pd.DataFrame",
       "ref": "4895f0e2-8e61-4811-9e76-565013e3362f",
       "rows": [
        [
         "0",
         "1",
         "230.1",
         "37.8",
         "69.2",
         "22.1"
        ],
        [
         "1",
         "2",
         "44.5",
         "39.3",
         "45.1",
         "10.4"
        ],
        [
         "2",
         "3",
         "17.2",
         "45.9",
         "69.3",
         "9.3"
        ],
        [
         "3",
         "4",
         "151.5",
         "41.3",
         "58.5",
         "18.5"
        ],
        [
         "4",
         "5",
         "180.8",
         "10.8",
         "58.4",
         "12.9"
        ]
       ],
       "shape": {
        "columns": 5,
        "rows": 5
       }
      },
      "text/html": [
       "<div>\n",
       "<style scoped>\n",
       "    .dataframe tbody tr th:only-of-type {\n",
       "        vertical-align: middle;\n",
       "    }\n",
       "\n",
       "    .dataframe tbody tr th {\n",
       "        vertical-align: top;\n",
       "    }\n",
       "\n",
       "    .dataframe thead th {\n",
       "        text-align: right;\n",
       "    }\n",
       "</style>\n",
       "<table border=\"1\" class=\"dataframe\">\n",
       "  <thead>\n",
       "    <tr style=\"text-align: right;\">\n",
       "      <th></th>\n",
       "      <th>Unnamed: 0</th>\n",
       "      <th>TV</th>\n",
       "      <th>radio</th>\n",
       "      <th>newspaper</th>\n",
       "      <th>sales</th>\n",
       "    </tr>\n",
       "  </thead>\n",
       "  <tbody>\n",
       "    <tr>\n",
       "      <th>0</th>\n",
       "      <td>1</td>\n",
       "      <td>230.1</td>\n",
       "      <td>37.8</td>\n",
       "      <td>69.2</td>\n",
       "      <td>22.1</td>\n",
       "    </tr>\n",
       "    <tr>\n",
       "      <th>1</th>\n",
       "      <td>2</td>\n",
       "      <td>44.5</td>\n",
       "      <td>39.3</td>\n",
       "      <td>45.1</td>\n",
       "      <td>10.4</td>\n",
       "    </tr>\n",
       "    <tr>\n",
       "      <th>2</th>\n",
       "      <td>3</td>\n",
       "      <td>17.2</td>\n",
       "      <td>45.9</td>\n",
       "      <td>69.3</td>\n",
       "      <td>9.3</td>\n",
       "    </tr>\n",
       "    <tr>\n",
       "      <th>3</th>\n",
       "      <td>4</td>\n",
       "      <td>151.5</td>\n",
       "      <td>41.3</td>\n",
       "      <td>58.5</td>\n",
       "      <td>18.5</td>\n",
       "    </tr>\n",
       "    <tr>\n",
       "      <th>4</th>\n",
       "      <td>5</td>\n",
       "      <td>180.8</td>\n",
       "      <td>10.8</td>\n",
       "      <td>58.4</td>\n",
       "      <td>12.9</td>\n",
       "    </tr>\n",
       "  </tbody>\n",
       "</table>\n",
       "</div>"
      ],
      "text/plain": [
       "   Unnamed: 0     TV  radio  newspaper  sales\n",
       "0           1  230.1   37.8       69.2   22.1\n",
       "1           2   44.5   39.3       45.1   10.4\n",
       "2           3   17.2   45.9       69.3    9.3\n",
       "3           4  151.5   41.3       58.5   18.5\n",
       "4           5  180.8   10.8       58.4   12.9"
      ]
     },
     "execution_count": 22,
     "metadata": {},
     "output_type": "execute_result"
    }
   ],
   "source": [
    "# read data and display head \n",
    "df = pd.read_csv(\"./data/advertising.csv\")\n",
    "df.head()"
   ]
  },
  {
   "cell_type": "code",
   "execution_count": 23,
   "metadata": {},
   "outputs": [],
   "source": [
    "# get X and Y\n",
    "X = df['TV']\n",
    "Y = df['sales']\n"
   ]
  },
  {
   "cell_type": "code",
   "execution_count": 42,
   "metadata": {},
   "outputs": [
    {
     "data": {
      "image/png": "[encoded data removed]",
      "text/plain": [
       "<Figure size 432x288 with 1 Axes>"
      ]
     },
     "metadata": {
      "needs_background": "light"
     },
     "output_type": "display_data"
    }
   ],
   "source": [
    "# scatter plot \n",
    "sns.scatterplot(x=X, y=Y); "
   ]
  },
  {
   "cell_type": "code",
   "execution_count": 41,
   "metadata": {},
   "outputs": [
    {
     "data": {
      "image/png": "[encoded data removed]",
      "text/plain": [
       "<Figure size 432x288 with 1 Axes>"
      ]
     },
     "metadata": {
      "needs_background": "light"
     },
     "output_type": "display_data"
    }
   ],
   "source": [
    "sns.regplot(x=X, y=Y); "
   ]
  },
  {
   "cell_type": "code",
   "execution_count": null,
   "metadata": {},
   "outputs": [
    {
     "data": {
      "text/plain": [
       "<statsmodels.regression.linear_model.OLS at 0x2981c840eb0>"
      ]
     },
     "execution_count": 31,
     "metadata": {},
     "output_type": "execute_result"
    }
   ],
   "source": [
    "# build model \n",
    "model = sm.OLS(endog=Y, exog=(sm.add_constant(X)))"
   ]
  },
  {
   "cell_type": "code",
   "execution_count": 34,
   "metadata": {},
   "outputs": [
    {
     "data": {
      "text/html": [
       "<table class=\"simpletable\">\n",
       "<caption>OLS Regression Results</caption>\n",
       "<tr>\n",
       "  <th>Dep. Variable:</th>          <td>sales</td>      <th>  R-squared:         </th> <td>   0.612</td>\n",
       "</tr>\n",
       "<tr>\n",
       "  <th>Model:</th>                   <td>OLS</td>       <th>  Adj. R-squared:    </th> <td>   0.610</td>\n",
       "</tr>\n",
       "<tr>\n",
       "  <th>Method:</th>             <td>Least Squares</td>  <th>  F-statistic:       </th> <td>   312.1</td>\n",
       "</tr>\n",
       "<tr>\n",
       "  <th>Date:</th>             <td>Wed, 23 Apr 2025</td> <th>  Prob (F-statistic):</th> <td>1.47e-42</td>\n",
       "</tr>\n",
       "<tr>\n",
       "  <th>Time:</th>                 <td>15:25:55</td>     <th>  Log-Likelihood:    </th> <td> -519.05</td>\n",
       "</tr>\n",
       "<tr>\n",
       "  <th>No. Observations:</th>      <td>   200</td>      <th>  AIC:               </th> <td>   1042.</td>\n",
       "</tr>\n",
       "<tr>\n",
       "  <th>Df Residuals:</th>          <td>   198</td>      <th>  BIC:               </th> <td>   1049.</td>\n",
       "</tr>\n",
       "<tr>\n",
       "  <th>Df Model:</th>              <td>     1</td>      <th>                     </th>     <td> </td>   \n",
       "</tr>\n",
       "<tr>\n",
       "  <th>Covariance Type:</th>      <td>nonrobust</td>    <th>                     </th>     <td> </td>   \n",
       "</tr>\n",
       "</table>\n",
       "<table class=\"simpletable\">\n",
       "<tr>\n",
       "    <td></td>       <th>coef</th>     <th>std err</th>      <th>t</th>      <th>P>|t|</th>  <th>[0.025</th>    <th>0.975]</th>  \n",
       "</tr>\n",
       "<tr>\n",
       "  <th>const</th> <td>    7.0326</td> <td>    0.458</td> <td>   15.360</td> <td> 0.000</td> <td>    6.130</td> <td>    7.935</td>\n",
       "</tr>\n",
       "<tr>\n",
       "  <th>TV</th>    <td>    0.0475</td> <td>    0.003</td> <td>   17.668</td> <td> 0.000</td> <td>    0.042</td> <td>    0.053</td>\n",
       "</tr>\n",
       "</table>\n",
       "<table class=\"simpletable\">\n",
       "<tr>\n",
       "  <th>Omnibus:</th>       <td> 0.531</td> <th>  Durbin-Watson:     </th> <td>   1.935</td>\n",
       "</tr>\n",
       "<tr>\n",
       "  <th>Prob(Omnibus):</th> <td> 0.767</td> <th>  Jarque-Bera (JB):  </th> <td>   0.669</td>\n",
       "</tr>\n",
       "<tr>\n",
       "  <th>Skew:</th>          <td>-0.089</td> <th>  Prob(JB):          </th> <td>   0.716</td>\n",
       "</tr>\n",
       "<tr>\n",
       "  <th>Kurtosis:</th>      <td> 2.779</td> <th>  Cond. No.          </th> <td>    338.</td>\n",
       "</tr>\n",
       "</table><br/><br/>Notes:<br/>[1] Standard Errors assume that the covariance matrix of the errors is correctly specified."
      ],
      "text/plain": [
       "<class 'statsmodels.iolib.summary.Summary'>\n",
       "\"\"\"\n",
       "                            OLS Regression Results                            \n",
       "==============================================================================\n",
       "Dep. Variable:                  sales   R-squared:                       0.612\n",
       "Model:                            OLS   Adj. R-squared:                  0.610\n",
       "Method:                 Least Squares   F-statistic:                     312.1\n",
       "Date:                Wed, 23 Apr 2025   Prob (F-statistic):           1.47e-42\n",
       "Time:                        15:25:55   Log-Likelihood:                -519.05\n",
       "No. Observations:                 200   AIC:                             1042.\n",
       "Df Residuals:                     198   BIC:                             1049.\n",
       "Df Model:                           1                                         \n",
       "Covariance Type:            nonrobust                                         \n",
       "==============================================================================\n",
       "                 coef    std err          t      P>|t|      [0.025      0.975]\n",
       "------------------------------------------------------------------------------\n",
       "const          7.0326      0.458     15.360      0.000       6.130       7.935\n",
       "TV             0.0475      0.003     17.668      0.000       0.042       0.053\n",
       "==============================================================================\n",
       "Omnibus:                        0.531   Durbin-Watson:                   1.935\n",
       "Prob(Omnibus):                  0.767   Jarque-Bera (JB):                0.669\n",
       "Skew:                          -0.089   Prob(JB):                        0.716\n",
       "Kurtosis:                       2.779   Cond. No.                         338.\n",
       "==============================================================================\n",
       "\n",
       "Notes:\n",
       "[1] Standard Errors assume that the covariance matrix of the errors is correctly specified.\n",
       "\"\"\""
      ]
     },
     "execution_count": 34,
     "metadata": {},
     "output_type": "execute_result"
    }
   ],
   "source": [
    "# train the model\n",
    "results = model.fit()\n",
    "results.summary()"
   ]
  },
  {
   "cell_type": "markdown",
   "metadata": {},
   "source": [
    "## Evaluating and Interpreting the Model\n",
    "\n",
    "### F-Test \n",
    "#### Measuring Statistical Significance\n",
    "\n",
    "So, is our overall model statistically significant? Let's frame this in terms of a null and alternative hypothesis:\n",
    "\n",
    "    H 0 (null hypothesis): the intercept-only model fits the data just as well as (or better than) our model\n",
    "    H a (alternative hypothesis): our model fits the data better than the intercept-only model\n"
   ]
  },
  {
   "cell_type": "code",
   "execution_count": 35,
   "metadata": {},
   "outputs": [
    {
     "data": {
      "text/plain": [
       "(1.467389700194647e-42, 312.144994372713)"
      ]
     },
     "execution_count": 35,
     "metadata": {},
     "output_type": "execute_result"
    }
   ],
   "source": [
    "# F1- score\n",
    "results.f_pvalue, results.fvalue"
   ]
  },
  {
   "cell_type": "markdown",
   "metadata": {},
   "source": [
    "    *For fp-values below the significant value e.g 0.05 we reject the null hypothesis*"
   ]
  },
  {
   "cell_type": "markdown",
   "metadata": {},
   "source": [
    "## R-Squared\n",
    "#### Measuring Goodness of Fit\n",
    "We can quantify how much of the variation in the dependent variable is explained by our model. This measure is called the R 2 or coefficient of determination."
   ]
  },
  {
   "cell_type": "code",
   "execution_count": 36,
   "metadata": {},
   "outputs": [
    {
     "data": {
      "text/plain": [
       "(0.611875050850071, 0.6099148238341623)"
      ]
     },
     "execution_count": 36,
     "metadata": {},
     "output_type": "execute_result"
    }
   ],
   "source": [
    "#r2 score\n",
    "results.rsquared, results.rsquared_adj\n"
   ]
  },
  {
   "cell_type": "markdown",
   "metadata": {},
   "source": [
    "    *out put is a paercentage between 0 and 1 higher values are better*"
   ]
  },
  {
   "cell_type": "markdown",
   "metadata": {},
   "source": [
    "### Other evaluation Metrics\n",
    "#### Model parameters:"
   ]
  },
  {
   "cell_type": "code",
   "execution_count": 40,
   "metadata": {},
   "outputs": [
    {
     "data": {
      "application/vnd.microsoft.datawrangler.viewer.v0+json": {
       "columns": [
        {
         "name": "index",
         "rawType": "int64",
         "type": "integer"
        },
        {
         "name": "mean",
         "rawType": "float64",
         "type": "float"
        },
        {
         "name": "mean_se",
         "rawType": "float64",
         "type": "float"
        },
        {
         "name": "mean_ci_lower",
         "rawType": "float64",
         "type": "float"
        },
        {
         "name": "mean_ci_upper",
         "rawType": "float64",
         "type": "float"
        },
        {
         "name": "obs_ci_lower",
         "rawType": "float64",
         "type": "float"
        },
        {
         "name": "obs_ci_upper",
         "rawType": "float64",
         "type": "float"
        }
       ],
       "conversionMethod": "pd.DataFrame",
       "ref": "8eb62d9b-87fb-4b43-a704-7fd1530bf62c",
       "rows": [
        [
         "0",
         "17.970774512765537",
         "0.32099116790047905",
         "17.33777431943548",
         "18.603774706095596",
         "11.513545889691951",
         "24.428003135839123"
        ],
        [
         "1",
         "9.147974048397074",
         "0.35946612171373415",
         "8.439100573688425",
         "9.856847523105724",
         "2.6828666363713154",
         "15.613081460422833"
        ],
        [
         "2",
         "7.8502237645756345",
         "0.4185011793359014",
         "7.02493212443114",
         "8.67551540472013",
         "1.3713181056562753",
         "14.329129423494994"
        ],
        [
         "3",
         "14.234394574730187",
         "0.23073371631706896",
         "13.77938365342736",
         "14.689405496033014",
         "7.79217855969392",
         "20.676610589766454"
        ],
        [
         "4",
         "15.627218139417666",
         "0.24767713560076055",
         "15.13879449915313",
         "16.1156417796822",
         "9.182556014972803",
         "22.07188026386253"
        ],
        [
         "5",
         "7.446162320894967",
         "0.43777379903907715",
         "6.582864737852163",
         "8.309459903937771",
         "0.9623058324482612",
         "13.930018809341671"
        ],
        [
         "6",
         "9.76595037402633",
         "0.33337431369247783",
         "9.108530400763884",
         "10.423370347288776",
         "3.3062821730171414",
         "16.22561857503552"
        ],
        [
         "7",
         "12.746497729176669",
         "0.2414752864809595",
         "12.27030424377127",
         "13.222691214582069",
         "6.302750955642855",
         "19.190244502710485"
        ],
        [
         "8",
         "7.441408656851665",
         "0.43800259582072787",
         "6.577659882556574",
         "8.305157431146755",
         "0.9574920788117236",
         "13.925325234891606"
        ],
        [
         "9",
         "16.53041430764504",
         "0.27063615140560937",
         "15.996715086939476",
         "17.0641135283506",
         "10.082162831154173",
         "22.978665784135906"
        ],
        [
         "10",
         "10.174765481750299",
         "0.317055646565327",
         "9.549526205277548",
         "10.80000475822305",
         "3.718293039407726",
         "16.631237924092872"
        ],
        [
         "11",
         "17.238710250097036",
         "0.29365401298041366",
         "16.659619404063598",
         "17.817801096130474",
         "10.786543292101868",
         "23.690877208092203"
        ],
        [
         "12",
         "8.163965591433564",
         "0.40379559276801036",
         "7.36767362502275",
         "8.960257557844379",
         "1.6886900651215528",
         "14.639241117745577"
        ],
        [
         "13",
         "11.66741599134712",
         "0.26620093622116264",
         "11.142463092503242",
         "12.192368890190998",
         "5.21988252560307",
         "18.11494945709117"
        ],
        [
         "14",
         "16.734821861507026",
         "0.27687973587935033",
         "16.188810183094915",
         "17.280833539919136",
         "10.285539653474313",
         "23.18410406953974"
        ],
        [
         "15",
         "16.321253089739756",
         "0.2646187608915434",
         "15.799420268298883",
         "16.843085911180626",
         "9.873972908188946",
         "22.768533271290565"
        ],
        [
         "16",
         "10.255577770486433",
         "0.31393135938196615",
         "9.636499642945042",
         "10.874655898027823",
         "3.799699056176114",
         "16.711456484796752"
        ],
        [
         "17",
         "20.40940416697945",
         "0.4286943085577553",
         "19.56401149785564",
         "21.25479683610326",
         "13.927907348273667",
         "26.89090098568523"
        ],
        [
         "18",
         "10.32212906709266",
         "0.3113853304886953",
         "9.70807175302787",
         "10.936186381157452",
         "3.8667298826237904",
         "16.77752825156153"
        ],
        [
         "19",
         "14.034740684911505",
         "0.23042284318185965",
         "13.580342810864698",
         "14.489138558958311",
         "7.59256794011312",
         "20.47691342970989"
        ],
        [
         "20",
         "17.41459581969921",
         "0.2999271371392422",
         "16.82313426318394",
         "18.00605737621448",
         "10.961306811858295",
         "23.867884827540124"
        ],
        [
         "21",
         "18.317791987926583",
         "0.3349624727729092",
         "17.657240137199945",
         "18.97834383865322",
         "11.857804294951984",
         "24.777779680901183"
        ],
        [
         "22",
         "7.6600772028435555",
         "0.42752647531618515",
         "6.816987521283317",
         "8.503166884403795",
         "1.1788803645243977",
         "14.141274041162713"
        ],
        [
         "23",
         "17.885208559986104",
         "0.3176384170705466",
         "17.258820049891494",
         "18.511597070080715",
         "11.428624725521981",
         "24.341792394450227"
        ],
        [
         "24",
         "9.994126248104825",
         "0.3241638632309719",
         "9.354869444131193",
         "10.633383052078457",
         "3.536281289659982",
         "16.45197120654967"
        ],
        [
         "25",
         "19.529976318968586",
         "0.38764409327620014",
         "18.765535391848847",
         "20.294417246088326",
         "13.058540452258587",
         "26.001412185678586"
        ],
        [
         "26",
         "13.825579467006218",
         "0.23069121439746448",
         "13.370652360231691",
         "14.280506573780745",
         "7.383369371211209",
         "20.267789562801227"
        ],
        [
         "27",
         "18.446140917095736",
         "0.3402718635604346",
         "17.77511885493945",
         "19.117162979252022",
         "11.985074220815209",
         "24.907207613376265"
        ],
        [
         "28",
         "18.85970968886301",
         "0.35784755909653243",
         "18.15402804792445",
         "19.56539132980157",
         "12.394951470318201",
         "25.32446790740782"
        ],
        [
         "29",
         "10.388680363698889",
         "0.3088642549769912",
         "9.779594654606118",
         "10.99776607279166",
         "3.933752196251482",
         "16.843608531146295"
        ],
        [
         "30",
         "20.95607553195918",
         "0.4550906188776845",
         "20.05862887753414",
         "21.853522186384218",
         "14.467583970477143",
         "27.444567093441215"
        ],
        [
         "31",
         "12.399480254015625",
         "0.24805888698623185",
         "11.910303793346753",
         "12.888656714684497",
         "5.95476103161676",
         "18.844199476414488"
        ],
        [
         "32",
         "11.653154999217215",
         "0.26660604605480265",
         "11.127403216700955",
         "12.178906781733474",
         "5.205556439853898",
         "18.100753558580532"
        ],
        [
         "33",
         "19.658325248137743",
         "0.3935097036388685",
         "18.882317234864658",
         "20.434333261410828",
         "13.185512823654168",
         "26.131137672621318"
        ],
        [
         "34",
         "11.581850038567685",
         "0.26865881117830664",
         "11.052050167349988",
         "12.111649909785383",
         "5.133920126617092",
         "18.02977995051828"
        ],
        [
         "35",
         "20.851494923006534",
         "0.4499960884543409",
         "19.964094771617685",
         "21.738895074395383",
         "14.36438529894669",
         "27.338604547066378"
        ],
        [
         "36",
         "19.720122880700664",
         "0.39635041649825686",
         "18.938512932019357",
         "20.50173282938197",
         "13.246636466274317",
         "26.19360929512701"
        ],
        [
         "37",
         "10.58358058947427",
         "0.30163053588852184",
         "9.988759900853701",
         "11.178401278094839",
         "4.129982841125218",
         "17.03717833782332"
        ],
        [
         "38",
         "9.081422751790846",
         "0.3623653427746467",
         "8.366831962477972",
         "9.79601354110372",
         "2.6156859614431527",
         "15.547159542138541"
        ],
        [
         "39",
         "17.8709475678562",
         "0.31708337045927193",
         "17.245653619380036",
         "18.49624151633236",
         "11.414469830894209",
         "24.32742530481819"
        ],
        [
         "40",
         "16.658763236814195",
         "0.2745161713429384",
         "16.117412548977878",
         "17.200113924650513",
         "10.209873967094506",
         "23.107652506533885"
        ],
        [
         "41",
         "15.44657890577219",
         "0.24411306738888466",
         "14.965183670313666",
         "15.927974141230715",
         "9.002445634446476",
         "21.890712177097903"
        ],
        [
         "42",
         "20.989351180262297",
         "0.45671577709706423",
         "20.088699685424398",
         "21.890002675100195",
         "14.50041556946767",
         "27.478286791056924"
        ],
        [
         "43",
         "16.867924454719482",
         "0.28112680735434653",
         "16.313537477129067",
         "17.422311432309897",
         "10.417927775122916",
         "23.317921134316048"
        ],
        [
         "44",
         "8.225763223996491",
         "0.4009281747011137",
         "7.435125856129853",
         "9.016400591863128",
         "1.7511806356474953",
         "14.700345812345487"
        ],
        [
         "45",
         "15.356259288949452",
         "0.24247310180790993",
         "14.878098094279657",
         "15.834420483619247",
         "8.912366802728648",
         "21.800151775170256"
        ],
        [
         "46",
         "11.296630195969566",
         "0.27730564448557316",
         "10.749778618342024",
         "11.843481773597109",
         "4.847276825759602",
         "17.745983566179532"
        ],
        [
         "47",
         "18.436633589009134",
         "0.33987609469669816",
         "17.766391989969318",
         "19.10687518804895",
         "11.975647902059475",
         "24.897619275958792"
        ],
        [
         "48",
         "17.83291825550978",
         "0.31560856662235576",
         "17.210532645976393",
         "18.45530386504317",
         "11.376721535083805",
         "24.28911497593576"
        ],
        [
         "49",
         "10.212794794096716",
         "0.3155809884441275",
         "9.5904635692128",
         "10.835126018980633",
         "3.756603316193477",
         "16.668986271999955"
        ]
       ],
       "shape": {
        "columns": 6,
        "rows": 200
       }
      },
      "text/html": [
       "<div>\n",
       "<style scoped>\n",
       "    .dataframe tbody tr th:only-of-type {\n",
       "        vertical-align: middle;\n",
       "    }\n",
       "\n",
       "    .dataframe tbody tr th {\n",
       "        vertical-align: top;\n",
       "    }\n",
       "\n",
       "    .dataframe thead th {\n",
       "        text-align: right;\n",
       "    }\n",
       "</style>\n",
       "<table border=\"1\" class=\"dataframe\">\n",
       "  <thead>\n",
       "    <tr style=\"text-align: right;\">\n",
       "      <th></th>\n",
       "      <th>mean</th>\n",
       "      <th>mean_se</th>\n",
       "      <th>mean_ci_lower</th>\n",
       "      <th>mean_ci_upper</th>\n",
       "      <th>obs_ci_lower</th>\n",
       "      <th>obs_ci_upper</th>\n",
       "    </tr>\n",
       "  </thead>\n",
       "  <tbody>\n",
       "    <tr>\n",
       "      <th>0</th>\n",
       "      <td>17.970775</td>\n",
       "      <td>0.320991</td>\n",
       "      <td>17.337774</td>\n",
       "      <td>18.603775</td>\n",
       "      <td>11.513546</td>\n",
       "      <td>24.428003</td>\n",
       "    </tr>\n",
       "    <tr>\n",
       "      <th>1</th>\n",
       "      <td>9.147974</td>\n",
       "      <td>0.359466</td>\n",
       "      <td>8.439101</td>\n",
       "      <td>9.856848</td>\n",
       "      <td>2.682867</td>\n",
       "      <td>15.613081</td>\n",
       "    </tr>\n",
       "    <tr>\n",
       "      <th>2</th>\n",
       "      <td>7.850224</td>\n",
       "      <td>0.418501</td>\n",
       "      <td>7.024932</td>\n",
       "      <td>8.675515</td>\n",
       "      <td>1.371318</td>\n",
       "      <td>14.329129</td>\n",
       "    </tr>\n",
       "    <tr>\n",
       "      <th>3</th>\n",
       "      <td>14.234395</td>\n",
       "      <td>0.230734</td>\n",
       "      <td>13.779384</td>\n",
       "      <td>14.689405</td>\n",
       "      <td>7.792179</td>\n",
       "      <td>20.676611</td>\n",
       "    </tr>\n",
       "    <tr>\n",
       "      <th>4</th>\n",
       "      <td>15.627218</td>\n",
       "      <td>0.247677</td>\n",
       "      <td>15.138794</td>\n",
       "      <td>16.115642</td>\n",
       "      <td>9.182556</td>\n",
       "      <td>22.071880</td>\n",
       "    </tr>\n",
       "    <tr>\n",
       "      <th>...</th>\n",
       "      <td>...</td>\n",
       "      <td>...</td>\n",
       "      <td>...</td>\n",
       "      <td>...</td>\n",
       "      <td>...</td>\n",
       "      <td>...</td>\n",
       "    </tr>\n",
       "    <tr>\n",
       "      <th>195</th>\n",
       "      <td>8.848493</td>\n",
       "      <td>0.372635</td>\n",
       "      <td>8.113651</td>\n",
       "      <td>9.583336</td>\n",
       "      <td>2.380487</td>\n",
       "      <td>15.316500</td>\n",
       "    </tr>\n",
       "    <tr>\n",
       "      <th>196</th>\n",
       "      <td>11.510545</td>\n",
       "      <td>0.270756</td>\n",
       "      <td>10.976609</td>\n",
       "      <td>12.044481</td>\n",
       "      <td>5.062274</td>\n",
       "      <td>17.958816</td>\n",
       "    </tr>\n",
       "    <tr>\n",
       "      <th>197</th>\n",
       "      <td>15.446579</td>\n",
       "      <td>0.244113</td>\n",
       "      <td>14.965184</td>\n",
       "      <td>15.927974</td>\n",
       "      <td>9.002446</td>\n",
       "      <td>21.890712</td>\n",
       "    </tr>\n",
       "    <tr>\n",
       "      <th>198</th>\n",
       "      <td>20.513985</td>\n",
       "      <td>0.433698</td>\n",
       "      <td>19.658726</td>\n",
       "      <td>21.369244</td>\n",
       "      <td>14.031194</td>\n",
       "      <td>26.996776</td>\n",
       "    </tr>\n",
       "    <tr>\n",
       "      <th>199</th>\n",
       "      <td>18.065848</td>\n",
       "      <td>0.324761</td>\n",
       "      <td>17.425414</td>\n",
       "      <td>18.706281</td>\n",
       "      <td>11.607886</td>\n",
       "      <td>24.523809</td>\n",
       "    </tr>\n",
       "  </tbody>\n",
       "</table>\n",
       "<p>200 rows × 6 columns</p>\n",
       "</div>"
      ],
      "text/plain": [
       "          mean   mean_se  mean_ci_lower  mean_ci_upper  obs_ci_lower  \\\n",
       "0    17.970775  0.320991      17.337774      18.603775     11.513546   \n",
       "1     9.147974  0.359466       8.439101       9.856848      2.682867   \n",
       "2     7.850224  0.418501       7.024932       8.675515      1.371318   \n",
       "3    14.234395  0.230734      13.779384      14.689405      7.792179   \n",
       "4    15.627218  0.247677      15.138794      16.115642      9.182556   \n",
       "..         ...       ...            ...            ...           ...   \n",
       "195   8.848493  0.372635       8.113651       9.583336      2.380487   \n",
       "196  11.510545  0.270756      10.976609      12.044481      5.062274   \n",
       "197  15.446579  0.244113      14.965184      15.927974      9.002446   \n",
       "198  20.513985  0.433698      19.658726      21.369244     14.031194   \n",
       "199  18.065848  0.324761      17.425414      18.706281     11.607886   \n",
       "\n",
       "     obs_ci_upper  \n",
       "0       24.428003  \n",
       "1       15.613081  \n",
       "2       14.329129  \n",
       "3       20.676611  \n",
       "4       22.071880  \n",
       "..            ...  \n",
       "195     15.316500  \n",
       "196     17.958816  \n",
       "197     21.890712  \n",
       "198     26.996776  \n",
       "199     24.523809  \n",
       "\n",
       "[200 rows x 6 columns]"
      ]
     },
     "execution_count": 40,
     "metadata": {},
     "output_type": "execute_result"
    }
   ],
   "source": [
    "# y=mx+c\n",
    "# m,c\n",
    "# Generate predictions\n",
    "predictions = results.get_prediction(sm.add_constant(X)).summary_frame()\n",
    "predictions\n"
   ]
  },
  {
   "cell_type": "markdown",
   "metadata": {},
   "source": [
    "#### Model parameter p-values:"
   ]
  },
  {
   "cell_type": "code",
   "execution_count": 28,
   "metadata": {},
   "outputs": [],
   "source": [
    "# p-values  for m & c\n"
   ]
  },
  {
   "cell_type": "markdown",
   "metadata": {},
   "source": [
    "#### Model Confidence intervals \n",
    "returns value ranges at 95% percent confidence intervals "
   ]
  },
  {
   "cell_type": "code",
   "execution_count": 29,
   "metadata": {},
   "outputs": [],
   "source": [
    "# confidence intervals\n",
    "\n"
   ]
  }
 ],
 "metadata": {
  "kernelspec": {
   "display_name": "learn-env",
   "language": "python",
   "name": "python3"
  },
  "language_info": {
   "codemirror_mode": {
    "name": "ipython",
    "version": 3
   },
   "file_extension": ".py",
   "mimetype": "text/x-python",
   "name": "python",
   "nbconvert_exporter": "python",
   "pygments_lexer": "ipython3",
   "version": "3.8.5"
  }
 },
 "nbformat": 4,
 "nbformat_minor": 4
}
